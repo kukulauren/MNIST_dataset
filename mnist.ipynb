{
 "cells": [
  {
   "cell_type": "code",
   "execution_count": 1,
   "id": "14328b84",
   "metadata": {
    "_cell_guid": "b1076dfc-b9ad-4769-8c92-a6c4dae69d19",
    "_uuid": "8f2839f25d086af736a60e9eeb907d3b93b6e0e5",
    "execution": {
     "iopub.execute_input": "2024-07-01T08:20:08.184075Z",
     "iopub.status.busy": "2024-07-01T08:20:08.183611Z",
     "iopub.status.idle": "2024-07-01T08:20:09.150205Z",
     "shell.execute_reply": "2024-07-01T08:20:09.148566Z"
    },
    "papermill": {
     "duration": 0.976641,
     "end_time": "2024-07-01T08:20:09.153303",
     "exception": false,
     "start_time": "2024-07-01T08:20:08.176662",
     "status": "completed"
    },
    "tags": []
   },
   "outputs": [
    {
     "name": "stdout",
     "output_type": "stream",
     "text": [
      "/kaggle/input/digit-recognizer/sample_submission.csv\n",
      "/kaggle/input/digit-recognizer/train.csv\n",
      "/kaggle/input/digit-recognizer/test.csv\n"
     ]
    }
   ],
   "source": [
    "# This Python 3 environment comes with many helpful analytics libraries installed\n",
    "# It is defined by the kaggle/python Docker image: https://github.com/kaggle/docker-python\n",
    "# For example, here's several helpful packages to load\n",
    "\n",
    "import numpy as np # linear algebra\n",
    "import pandas as pd # data processing, CSV file I/O (e.g. pd.read_csv)\n",
    "\n",
    "# Input data files are available in the read-only \"../input/\" directory\n",
    "# For example, running this (by clicking run or pressing Shift+Enter) will list all files under the input directory\n",
    "\n",
    "import os\n",
    "for dirname, _, filenames in os.walk('/kaggle/input'):\n",
    "    for filename in filenames:\n",
    "        print(os.path.join(dirname, filename))\n",
    "\n",
    "# You can write up to 20GB to the current directory (/kaggle/working/) that gets preserved as output when you create a version using \"Save & Run All\" \n",
    "# You can also write temporary files to /kaggle/temp/, but they won't be saved outside of the current session"
   ]
  },
  {
   "cell_type": "code",
   "execution_count": 2,
   "id": "81175d97",
   "metadata": {
    "execution": {
     "iopub.execute_input": "2024-07-01T08:20:09.166563Z",
     "iopub.status.busy": "2024-07-01T08:20:09.166004Z",
     "iopub.status.idle": "2024-07-01T08:20:16.088678Z",
     "shell.execute_reply": "2024-07-01T08:20:16.087429Z"
    },
    "papermill": {
     "duration": 6.932873,
     "end_time": "2024-07-01T08:20:16.091625",
     "exception": false,
     "start_time": "2024-07-01T08:20:09.158752",
     "status": "completed"
    },
    "tags": []
   },
   "outputs": [],
   "source": [
    "train_data=pd.read_csv(\"/kaggle/input/digit-recognizer/train.csv\")\n",
    "test_data=pd.read_csv(\"/kaggle/input/digit-recognizer/test.csv\")"
   ]
  },
  {
   "cell_type": "code",
   "execution_count": 3,
   "id": "cb9fabad",
   "metadata": {
    "execution": {
     "iopub.execute_input": "2024-07-01T08:20:16.103269Z",
     "iopub.status.busy": "2024-07-01T08:20:16.102841Z",
     "iopub.status.idle": "2024-07-01T08:20:16.108821Z",
     "shell.execute_reply": "2024-07-01T08:20:16.107525Z"
    },
    "papermill": {
     "duration": 0.014739,
     "end_time": "2024-07-01T08:20:16.111374",
     "exception": false,
     "start_time": "2024-07-01T08:20:16.096635",
     "status": "completed"
    },
    "tags": []
   },
   "outputs": [],
   "source": [
    "X=train_data.iloc[:,1:]\n",
    "y=train_data.iloc[:,:1]"
   ]
  },
  {
   "cell_type": "code",
   "execution_count": 4,
   "id": "506a0070",
   "metadata": {
    "execution": {
     "iopub.execute_input": "2024-07-01T08:20:16.122897Z",
     "iopub.status.busy": "2024-07-01T08:20:16.122520Z",
     "iopub.status.idle": "2024-07-01T08:20:17.847251Z",
     "shell.execute_reply": "2024-07-01T08:20:17.845959Z"
    },
    "papermill": {
     "duration": 1.733938,
     "end_time": "2024-07-01T08:20:17.850190",
     "exception": false,
     "start_time": "2024-07-01T08:20:16.116252",
     "status": "completed"
    },
    "tags": []
   },
   "outputs": [],
   "source": [
    "from sklearn.model_selection import train_test_split\n",
    "X_train, X_val, y_train, y_val = train_test_split(X, y, train_size = 0.8, random_state = 42)"
   ]
  },
  {
   "cell_type": "code",
   "execution_count": 5,
   "id": "40c203f0",
   "metadata": {
    "execution": {
     "iopub.execute_input": "2024-07-01T08:20:17.862078Z",
     "iopub.status.busy": "2024-07-01T08:20:17.861662Z",
     "iopub.status.idle": "2024-07-01T08:20:32.304643Z",
     "shell.execute_reply": "2024-07-01T08:20:32.303515Z"
    },
    "papermill": {
     "duration": 14.45236,
     "end_time": "2024-07-01T08:20:32.307661",
     "exception": false,
     "start_time": "2024-07-01T08:20:17.855301",
     "status": "completed"
    },
    "tags": []
   },
   "outputs": [
    {
     "name": "stderr",
     "output_type": "stream",
     "text": [
      "2024-07-01 08:20:20.232078: E external/local_xla/xla/stream_executor/cuda/cuda_dnn.cc:9261] Unable to register cuDNN factory: Attempting to register factory for plugin cuDNN when one has already been registered\n",
      "2024-07-01 08:20:20.232257: E external/local_xla/xla/stream_executor/cuda/cuda_fft.cc:607] Unable to register cuFFT factory: Attempting to register factory for plugin cuFFT when one has already been registered\n",
      "2024-07-01 08:20:20.404482: E external/local_xla/xla/stream_executor/cuda/cuda_blas.cc:1515] Unable to register cuBLAS factory: Attempting to register factory for plugin cuBLAS when one has already been registered\n"
     ]
    }
   ],
   "source": [
    "import tensorflow as tf\n",
    "from tensorflow.keras.models import Sequential\n",
    "from tensorflow.keras.layers import Dense"
   ]
  },
  {
   "cell_type": "code",
   "execution_count": 6,
   "id": "781d4f87",
   "metadata": {
    "execution": {
     "iopub.execute_input": "2024-07-01T08:20:32.320427Z",
     "iopub.status.busy": "2024-07-01T08:20:32.319706Z",
     "iopub.status.idle": "2024-07-01T08:20:32.329525Z",
     "shell.execute_reply": "2024-07-01T08:20:32.328386Z"
    },
    "papermill": {
     "duration": 0.018778,
     "end_time": "2024-07-01T08:20:32.332049",
     "exception": false,
     "start_time": "2024-07-01T08:20:32.313271",
     "status": "completed"
    },
    "tags": []
   },
   "outputs": [
    {
     "data": {
      "text/plain": [
       "(33600, 784)"
      ]
     },
     "execution_count": 6,
     "metadata": {},
     "output_type": "execute_result"
    }
   ],
   "source": [
    "X_train.shape"
   ]
  },
  {
   "cell_type": "code",
   "execution_count": 7,
   "id": "01121e61",
   "metadata": {
    "execution": {
     "iopub.execute_input": "2024-07-01T08:20:32.344530Z",
     "iopub.status.busy": "2024-07-01T08:20:32.343730Z",
     "iopub.status.idle": "2024-07-01T08:20:32.456339Z",
     "shell.execute_reply": "2024-07-01T08:20:32.455174Z"
    },
    "papermill": {
     "duration": 0.122052,
     "end_time": "2024-07-01T08:20:32.459371",
     "exception": false,
     "start_time": "2024-07-01T08:20:32.337319",
     "status": "completed"
    },
    "tags": []
   },
   "outputs": [
    {
     "name": "stderr",
     "output_type": "stream",
     "text": [
      "/opt/conda/lib/python3.10/site-packages/keras/src/layers/core/dense.py:87: UserWarning: Do not pass an `input_shape`/`input_dim` argument to a layer. When using Sequential models, prefer using an `Input(shape)` object as the first layer in the model instead.\n",
      "  super().__init__(activity_regularizer=activity_regularizer, **kwargs)\n"
     ]
    }
   ],
   "source": [
    "from keras.models import Sequential\n",
    "from keras.layers import Dense, Dropout\n",
    "from keras.optimizers import Adam\n",
    "from keras.regularizers import l2\n",
    "from keras.losses import SparseCategoricalCrossentropy\n",
    "model = Sequential([\n",
    "    Dense(128, activation='relu', input_dim=784, kernel_regularizer=l2(0.01)),\n",
    "    Dropout(0.5),\n",
    "    Dense(64, activation='relu', kernel_regularizer=l2(0.01)),\n",
    "    Dropout(0.5),\n",
    "    Dense(10, activation='softmax', kernel_regularizer=l2(0.01))\n",
    "])\n",
    "\n",
    "model.compile(optimizer=Adam(learning_rate=0.001), loss=SparseCategoricalCrossentropy(), metrics=['accuracy'])"
   ]
  },
  {
   "cell_type": "code",
   "execution_count": 8,
   "id": "99b530a6",
   "metadata": {
    "execution": {
     "iopub.execute_input": "2024-07-01T08:20:32.472279Z",
     "iopub.status.busy": "2024-07-01T08:20:32.471848Z",
     "iopub.status.idle": "2024-07-01T08:21:45.935286Z",
     "shell.execute_reply": "2024-07-01T08:21:45.933992Z"
    },
    "papermill": {
     "duration": 73.472865,
     "end_time": "2024-07-01T08:21:45.937913",
     "exception": false,
     "start_time": "2024-07-01T08:20:32.465048",
     "status": "completed"
    },
    "tags": []
   },
   "outputs": [
    {
     "name": "stdout",
     "output_type": "stream",
     "text": [
      "Epoch 1/20\n",
      "\u001b[1m1050/1050\u001b[0m \u001b[32m━━━━━━━━━━━━━━━━━━━━\u001b[0m\u001b[37m\u001b[0m \u001b[1m5s\u001b[0m 3ms/step - accuracy: 0.1486 - loss: 21.6221\n",
      "Epoch 2/20\n",
      "\u001b[1m1050/1050\u001b[0m \u001b[32m━━━━━━━━━━━━━━━━━━━━\u001b[0m\u001b[37m\u001b[0m \u001b[1m3s\u001b[0m 3ms/step - accuracy: 0.1706 - loss: 3.9806\n",
      "Epoch 3/20\n",
      "\u001b[1m1050/1050\u001b[0m \u001b[32m━━━━━━━━━━━━━━━━━━━━\u001b[0m\u001b[37m\u001b[0m \u001b[1m4s\u001b[0m 3ms/step - accuracy: 0.2132 - loss: 3.4184\n",
      "Epoch 4/20\n",
      "\u001b[1m1050/1050\u001b[0m \u001b[32m━━━━━━━━━━━━━━━━━━━━\u001b[0m\u001b[37m\u001b[0m \u001b[1m4s\u001b[0m 3ms/step - accuracy: 0.2667 - loss: 2.8263\n",
      "Epoch 5/20\n",
      "\u001b[1m1050/1050\u001b[0m \u001b[32m━━━━━━━━━━━━━━━━━━━━\u001b[0m\u001b[37m\u001b[0m \u001b[1m4s\u001b[0m 4ms/step - accuracy: 0.4041 - loss: 2.1805\n",
      "Epoch 6/20\n",
      "\u001b[1m1050/1050\u001b[0m \u001b[32m━━━━━━━━━━━━━━━━━━━━\u001b[0m\u001b[37m\u001b[0m \u001b[1m4s\u001b[0m 3ms/step - accuracy: 0.4859 - loss: 1.7017\n",
      "Epoch 7/20\n",
      "\u001b[1m1050/1050\u001b[0m \u001b[32m━━━━━━━━━━━━━━━━━━━━\u001b[0m\u001b[37m\u001b[0m \u001b[1m4s\u001b[0m 3ms/step - accuracy: 0.5715 - loss: 1.3404\n",
      "Epoch 8/20\n",
      "\u001b[1m1050/1050\u001b[0m \u001b[32m━━━━━━━━━━━━━━━━━━━━\u001b[0m\u001b[37m\u001b[0m \u001b[1m4s\u001b[0m 3ms/step - accuracy: 0.6428 - loss: 1.1544\n",
      "Epoch 9/20\n",
      "\u001b[1m1050/1050\u001b[0m \u001b[32m━━━━━━━━━━━━━━━━━━━━\u001b[0m\u001b[37m\u001b[0m \u001b[1m4s\u001b[0m 3ms/step - accuracy: 0.6833 - loss: 1.0547\n",
      "Epoch 10/20\n",
      "\u001b[1m1050/1050\u001b[0m \u001b[32m━━━━━━━━━━━━━━━━━━━━\u001b[0m\u001b[37m\u001b[0m \u001b[1m4s\u001b[0m 3ms/step - accuracy: 0.7049 - loss: 1.0286\n",
      "Epoch 11/20\n",
      "\u001b[1m1050/1050\u001b[0m \u001b[32m━━━━━━━━━━━━━━━━━━━━\u001b[0m\u001b[37m\u001b[0m \u001b[1m4s\u001b[0m 3ms/step - accuracy: 0.7056 - loss: 1.0110\n",
      "Epoch 12/20\n",
      "\u001b[1m1050/1050\u001b[0m \u001b[32m━━━━━━━━━━━━━━━━━━━━\u001b[0m\u001b[37m\u001b[0m \u001b[1m4s\u001b[0m 4ms/step - accuracy: 0.7136 - loss: 0.9940\n",
      "Epoch 13/20\n",
      "\u001b[1m1050/1050\u001b[0m \u001b[32m━━━━━━━━━━━━━━━━━━━━\u001b[0m\u001b[37m\u001b[0m \u001b[1m4s\u001b[0m 3ms/step - accuracy: 0.7247 - loss: 0.9666\n",
      "Epoch 14/20\n",
      "\u001b[1m1050/1050\u001b[0m \u001b[32m━━━━━━━━━━━━━━━━━━━━\u001b[0m\u001b[37m\u001b[0m \u001b[1m4s\u001b[0m 4ms/step - accuracy: 0.7274 - loss: 0.9616\n",
      "Epoch 15/20\n",
      "\u001b[1m1050/1050\u001b[0m \u001b[32m━━━━━━━━━━━━━━━━━━━━\u001b[0m\u001b[37m\u001b[0m \u001b[1m3s\u001b[0m 3ms/step - accuracy: 0.7272 - loss: 0.9625\n",
      "Epoch 16/20\n",
      "\u001b[1m1050/1050\u001b[0m \u001b[32m━━━━━━━━━━━━━━━━━━━━\u001b[0m\u001b[37m\u001b[0m \u001b[1m4s\u001b[0m 3ms/step - accuracy: 0.7272 - loss: 0.9596\n",
      "Epoch 17/20\n",
      "\u001b[1m1050/1050\u001b[0m \u001b[32m━━━━━━━━━━━━━━━━━━━━\u001b[0m\u001b[37m\u001b[0m \u001b[1m4s\u001b[0m 3ms/step - accuracy: 0.7341 - loss: 0.9390\n",
      "Epoch 18/20\n",
      "\u001b[1m1050/1050\u001b[0m \u001b[32m━━━━━━━━━━━━━━━━━━━━\u001b[0m\u001b[37m\u001b[0m \u001b[1m4s\u001b[0m 3ms/step - accuracy: 0.7293 - loss: 0.9484\n",
      "Epoch 19/20\n",
      "\u001b[1m1050/1050\u001b[0m \u001b[32m━━━━━━━━━━━━━━━━━━━━\u001b[0m\u001b[37m\u001b[0m \u001b[1m4s\u001b[0m 3ms/step - accuracy: 0.7305 - loss: 0.9346\n",
      "Epoch 20/20\n",
      "\u001b[1m1050/1050\u001b[0m \u001b[32m━━━━━━━━━━━━━━━━━━━━\u001b[0m\u001b[37m\u001b[0m \u001b[1m4s\u001b[0m 3ms/step - accuracy: 0.7322 - loss: 0.9435\n"
     ]
    },
    {
     "data": {
      "text/plain": [
       "<keras.src.callbacks.history.History at 0x7fda1e6a99f0>"
      ]
     },
     "execution_count": 8,
     "metadata": {},
     "output_type": "execute_result"
    }
   ],
   "source": [
    "\n",
    "model.fit(X_train,y_train,epochs=20)"
   ]
  },
  {
   "cell_type": "code",
   "execution_count": 9,
   "id": "dde41077",
   "metadata": {
    "execution": {
     "iopub.execute_input": "2024-07-01T08:21:46.220356Z",
     "iopub.status.busy": "2024-07-01T08:21:46.219605Z",
     "iopub.status.idle": "2024-07-01T08:21:46.986987Z",
     "shell.execute_reply": "2024-07-01T08:21:46.985714Z"
    },
    "papermill": {
     "duration": 0.912103,
     "end_time": "2024-07-01T08:21:46.990057",
     "exception": false,
     "start_time": "2024-07-01T08:21:46.077954",
     "status": "completed"
    },
    "tags": []
   },
   "outputs": [
    {
     "name": "stdout",
     "output_type": "stream",
     "text": [
      "\u001b[1m263/263\u001b[0m \u001b[32m━━━━━━━━━━━━━━━━━━━━\u001b[0m\u001b[37m\u001b[0m \u001b[1m0s\u001b[0m 2ms/step\n"
     ]
    }
   ],
   "source": [
    "y_pred=model.predict(X_val)"
   ]
  },
  {
   "cell_type": "code",
   "execution_count": 10,
   "id": "7690bcb9",
   "metadata": {
    "execution": {
     "iopub.execute_input": "2024-07-01T08:21:47.348255Z",
     "iopub.status.busy": "2024-07-01T08:21:47.347825Z",
     "iopub.status.idle": "2024-07-01T08:21:48.140694Z",
     "shell.execute_reply": "2024-07-01T08:21:48.139187Z"
    },
    "papermill": {
     "duration": 1.010482,
     "end_time": "2024-07-01T08:21:48.143356",
     "exception": false,
     "start_time": "2024-07-01T08:21:47.132874",
     "status": "completed"
    },
    "tags": []
   },
   "outputs": [
    {
     "name": "stdout",
     "output_type": "stream",
     "text": [
      "\u001b[1m263/263\u001b[0m \u001b[32m━━━━━━━━━━━━━━━━━━━━\u001b[0m\u001b[37m\u001b[0m \u001b[1m1s\u001b[0m 2ms/step - accuracy: 0.9109 - loss: 0.5015\n",
      "Test Loss: 0.5047183036804199\n",
      "Test Accuracy: 0.9107142686843872\n"
     ]
    }
   ],
   "source": [
    "loss, accuracy = model.evaluate(X_val, y_val)\n",
    "print(f'Test Loss: {loss}')\n",
    "print(f'Test Accuracy: {accuracy}')"
   ]
  },
  {
   "cell_type": "code",
   "execution_count": 11,
   "id": "63ec09ba",
   "metadata": {
    "execution": {
     "iopub.execute_input": "2024-07-01T08:21:48.432986Z",
     "iopub.status.busy": "2024-07-01T08:21:48.432570Z",
     "iopub.status.idle": "2024-07-01T08:21:50.538229Z",
     "shell.execute_reply": "2024-07-01T08:21:50.537064Z"
    },
    "papermill": {
     "duration": 2.255102,
     "end_time": "2024-07-01T08:21:50.541027",
     "exception": false,
     "start_time": "2024-07-01T08:21:48.285925",
     "status": "completed"
    },
    "tags": []
   },
   "outputs": [
    {
     "name": "stdout",
     "output_type": "stream",
     "text": [
      "\u001b[1m875/875\u001b[0m \u001b[32m━━━━━━━━━━━━━━━━━━━━\u001b[0m\u001b[37m\u001b[0m \u001b[1m1s\u001b[0m 2ms/step\n"
     ]
    }
   ],
   "source": [
    "predictions = model.predict(test_data)\n",
    "predictions = np.argmax(predictions, axis=1)\n",
    "\n",
    "# Prepare the submission file\n",
    "submission = pd.DataFrame({'ImageId': list(range(1, len(predictions) + 1)), 'Label': predictions})\n",
    "submission.to_csv('submission.csv', index=False)"
   ]
  }
 ],
 "metadata": {
  "kaggle": {
   "accelerator": "none",
   "dataSources": [
    {
     "databundleVersionId": 861823,
     "sourceId": 3004,
     "sourceType": "competition"
    }
   ],
   "dockerImageVersionId": 30732,
   "isGpuEnabled": false,
   "isInternetEnabled": false,
   "language": "python",
   "sourceType": "notebook"
  },
  "kernelspec": {
   "display_name": "Python 3",
   "language": "python",
   "name": "python3"
  },
  "language_info": {
   "codemirror_mode": {
    "name": "ipython",
    "version": 3
   },
   "file_extension": ".py",
   "mimetype": "text/x-python",
   "name": "python",
   "nbconvert_exporter": "python",
   "pygments_lexer": "ipython3",
   "version": "3.10.13"
  },
  "papermill": {
   "default_parameters": {},
   "duration": 108.329551,
   "end_time": "2024-07-01T08:21:53.305307",
   "environment_variables": {},
   "exception": null,
   "input_path": "__notebook__.ipynb",
   "output_path": "__notebook__.ipynb",
   "parameters": {},
   "start_time": "2024-07-01T08:20:04.975756",
   "version": "2.5.0"
  }
 },
 "nbformat": 4,
 "nbformat_minor": 5
}
